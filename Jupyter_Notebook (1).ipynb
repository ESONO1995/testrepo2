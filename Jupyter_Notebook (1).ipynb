{
 "cells": [
  {
   "cell_type": "markdown",
   "metadata": {},
   "source": [
    "<center>\n",
    "    <img src=\"https://cf-courses-data.s3.us.cloud-object-storage.appdomain.cloud/IBMDeveloperSkillsNetwork-DS0105EN-SkillsNetwork/labs/Module2/images/SN_web_lightmode.png\" width=\"300\" alt=\"cognitiveclass.ai logo\">\n",
    "</center>\n"
   ]
  },
  {
   "cell_type": "markdown",
   "metadata": {},
   "source": [
    "#### Add your code below following the instructions given in the course\n"
   ]
  },
  {
   "cell_type": "markdown",
   "metadata": {},
   "source": [
    "# This is a Jupyter Notebook Practice"
   ]
  },
  {
   "cell_type": "markdown",
   "metadata": {},
   "source": [
    "## List of the Division in the NFL:\n",
    "\n",
    "1. AFC NORTH\n",
    "2. AFC SOUTH\n",
    "3. AFC EAST\n",
    "4. AFC WEST\n",
    "5. NFC NORTH\n",
    "6. NFC SOUTH\n",
    "7. NFC EAST\n",
    "8. NFC WEST"
   ]
  },
  {
   "cell_type": "markdown",
   "metadata": {},
   "source": [
    "## LIST OF THE 5 LAST SUPERBOWL WINNERS:\n",
    "\n",
    "* KANSAS CITY CHIEFS\n",
    "* LOS ANGELES RAMS\n",
    "* TAMPA BAY BUCANEERS\n",
    "* KANSAS CITY CHIEFS\n",
    "* NEW ENGLAND PATRIOTS"
   ]
  },
  {
   "cell_type": "code",
   "execution_count": 1,
   "metadata": {
    "tags": []
   },
   "outputs": [
    {
     "name": "stdout",
     "output_type": "stream",
     "text": [
      "6.666666666666667\n"
     ]
    }
   ],
   "source": [
    "# CALCULATE DE AVERAGE NOTE\n",
    "\n",
    "NOTE1 = 7\n",
    "NOTE2 = 5\n",
    "NOTE3 = 8\n",
    "\n",
    "AVG = (NOTE1+NOTE2+NOTE3)/3\n",
    "\n",
    "print(AVG)\n"
   ]
  },
  {
   "cell_type": "code",
   "execution_count": null,
   "metadata": {},
   "outputs": [],
   "source": []
  }
 ],
 "metadata": {
  "kernelspec": {
   "display_name": "Python",
   "language": "python",
   "name": "conda-env-python-py"
  },
  "language_info": {
   "codemirror_mode": {
    "name": "ipython",
    "version": 3
   },
   "file_extension": ".py",
   "mimetype": "text/x-python",
   "name": "python",
   "nbconvert_exporter": "python",
   "pygments_lexer": "ipython3",
   "version": "3.7.12"
  }
 },
 "nbformat": 4,
 "nbformat_minor": 4
}
